{
 "cells": [
  {
   "cell_type": "code",
   "execution_count": 1,
   "id": "e7b91c39",
   "metadata": {
    "_cell_guid": "b1076dfc-b9ad-4769-8c92-a6c4dae69d19",
    "_uuid": "8f2839f25d086af736a60e9eeb907d3b93b6e0e5",
    "execution": {
     "iopub.execute_input": "2021-09-03T00:36:22.524407Z",
     "iopub.status.busy": "2021-09-03T00:36:22.523102Z",
     "iopub.status.idle": "2021-09-03T00:36:22.537843Z",
     "shell.execute_reply": "2021-09-03T00:36:22.537022Z",
     "shell.execute_reply.started": "2021-09-03T00:01:42.293144Z"
    },
    "papermill": {
     "duration": 0.042169,
     "end_time": "2021-09-03T00:36:22.538025",
     "exception": false,
     "start_time": "2021-09-03T00:36:22.495856",
     "status": "completed"
    },
    "tags": []
   },
   "outputs": [
    {
     "name": "stdout",
     "output_type": "stream",
     "text": [
      "/kaggle/input/titanic/train.csv\n",
      "/kaggle/input/titanic/test.csv\n",
      "/kaggle/input/titanic/gender_submission.csv\n"
     ]
    }
   ],
   "source": [
    "# This Python 3 environment comes with many helpful analytics libraries installed\n",
    "# It is defined by the kaggle/python Docker image: https://github.com/kaggle/docker-python\n",
    "# For example, here's several helpful packages to load\n",
    "\n",
    "import numpy as np # linear algebra\n",
    "import pandas as pd # data processing, CSV file I/O (e.g. pd.read_csv)\n",
    "\n",
    "# Input data files are available in the read-only \"../input/\" directory\n",
    "# For example, running this (by clicking run or pressing Shift+Enter) will list all files under the input directory\n",
    "\n",
    "import os\n",
    "for dirname, _, filenames in os.walk('/kaggle/input'):\n",
    "    for filename in filenames:\n",
    "        print(os.path.join(dirname, filename))\n",
    "\n",
    "# You can write up to 20GB to the current directory (/kaggle/working/) that gets preserved as output when you create a version using \"Save & Run All\" \n",
    "# You can also write temporary files to /kaggle/temp/, but they won't be saved outside of the current session"
   ]
  },
  {
   "cell_type": "code",
   "execution_count": 2,
   "id": "d82fc09d",
   "metadata": {
    "execution": {
     "iopub.execute_input": "2021-09-03T00:36:22.589081Z",
     "iopub.status.busy": "2021-09-03T00:36:22.588412Z",
     "iopub.status.idle": "2021-09-03T00:36:22.725377Z",
     "shell.execute_reply": "2021-09-03T00:36:22.725893Z",
     "shell.execute_reply.started": "2021-09-03T00:05:02.811736Z"
    },
    "papermill": {
     "duration": 0.164747,
     "end_time": "2021-09-03T00:36:22.726082",
     "exception": false,
     "start_time": "2021-09-03T00:36:22.561335",
     "status": "completed"
    },
    "tags": []
   },
   "outputs": [
    {
     "data": {
      "text/html": [
       "<div>\n",
       "<style scoped>\n",
       "    .dataframe tbody tr th:only-of-type {\n",
       "        vertical-align: middle;\n",
       "    }\n",
       "\n",
       "    .dataframe tbody tr th {\n",
       "        vertical-align: top;\n",
       "    }\n",
       "\n",
       "    .dataframe thead th {\n",
       "        text-align: right;\n",
       "    }\n",
       "</style>\n",
       "<table border=\"1\" class=\"dataframe\">\n",
       "  <thead>\n",
       "    <tr style=\"text-align: right;\">\n",
       "      <th></th>\n",
       "      <th>PassengerId</th>\n",
       "      <th>Survived</th>\n",
       "      <th>Pclass</th>\n",
       "      <th>Name</th>\n",
       "      <th>Sex</th>\n",
       "      <th>Age</th>\n",
       "      <th>SibSp</th>\n",
       "      <th>Parch</th>\n",
       "      <th>Ticket</th>\n",
       "      <th>Fare</th>\n",
       "      <th>Cabin</th>\n",
       "      <th>Embarked</th>\n",
       "    </tr>\n",
       "  </thead>\n",
       "  <tbody>\n",
       "    <tr>\n",
       "      <th>0</th>\n",
       "      <td>1</td>\n",
       "      <td>0</td>\n",
       "      <td>3</td>\n",
       "      <td>Braund, Mr. Owen Harris</td>\n",
       "      <td>male</td>\n",
       "      <td>22.0</td>\n",
       "      <td>1</td>\n",
       "      <td>0</td>\n",
       "      <td>A/5 21171</td>\n",
       "      <td>7.2500</td>\n",
       "      <td>NaN</td>\n",
       "      <td>S</td>\n",
       "    </tr>\n",
       "    <tr>\n",
       "      <th>1</th>\n",
       "      <td>2</td>\n",
       "      <td>1</td>\n",
       "      <td>1</td>\n",
       "      <td>Cumings, Mrs. John Bradley (Florence Briggs Th...</td>\n",
       "      <td>female</td>\n",
       "      <td>38.0</td>\n",
       "      <td>1</td>\n",
       "      <td>0</td>\n",
       "      <td>PC 17599</td>\n",
       "      <td>71.2833</td>\n",
       "      <td>C85</td>\n",
       "      <td>C</td>\n",
       "    </tr>\n",
       "    <tr>\n",
       "      <th>2</th>\n",
       "      <td>3</td>\n",
       "      <td>1</td>\n",
       "      <td>3</td>\n",
       "      <td>Heikkinen, Miss. Laina</td>\n",
       "      <td>female</td>\n",
       "      <td>26.0</td>\n",
       "      <td>0</td>\n",
       "      <td>0</td>\n",
       "      <td>STON/O2. 3101282</td>\n",
       "      <td>7.9250</td>\n",
       "      <td>NaN</td>\n",
       "      <td>S</td>\n",
       "    </tr>\n",
       "    <tr>\n",
       "      <th>3</th>\n",
       "      <td>4</td>\n",
       "      <td>1</td>\n",
       "      <td>1</td>\n",
       "      <td>Futrelle, Mrs. Jacques Heath (Lily May Peel)</td>\n",
       "      <td>female</td>\n",
       "      <td>35.0</td>\n",
       "      <td>1</td>\n",
       "      <td>0</td>\n",
       "      <td>113803</td>\n",
       "      <td>53.1000</td>\n",
       "      <td>C123</td>\n",
       "      <td>S</td>\n",
       "    </tr>\n",
       "    <tr>\n",
       "      <th>4</th>\n",
       "      <td>5</td>\n",
       "      <td>0</td>\n",
       "      <td>3</td>\n",
       "      <td>Allen, Mr. William Henry</td>\n",
       "      <td>male</td>\n",
       "      <td>35.0</td>\n",
       "      <td>0</td>\n",
       "      <td>0</td>\n",
       "      <td>373450</td>\n",
       "      <td>8.0500</td>\n",
       "      <td>NaN</td>\n",
       "      <td>S</td>\n",
       "    </tr>\n",
       "  </tbody>\n",
       "</table>\n",
       "</div>"
      ],
      "text/plain": [
       "   PassengerId  Survived  Pclass  \\\n",
       "0            1         0       3   \n",
       "1            2         1       1   \n",
       "2            3         1       3   \n",
       "3            4         1       1   \n",
       "4            5         0       3   \n",
       "\n",
       "                                                Name     Sex   Age  SibSp  \\\n",
       "0                            Braund, Mr. Owen Harris    male  22.0      1   \n",
       "1  Cumings, Mrs. John Bradley (Florence Briggs Th...  female  38.0      1   \n",
       "2                             Heikkinen, Miss. Laina  female  26.0      0   \n",
       "3       Futrelle, Mrs. Jacques Heath (Lily May Peel)  female  35.0      1   \n",
       "4                           Allen, Mr. William Henry    male  35.0      0   \n",
       "\n",
       "   Parch            Ticket     Fare Cabin Embarked  \n",
       "0      0         A/5 21171   7.2500   NaN        S  \n",
       "1      0          PC 17599  71.2833   C85        C  \n",
       "2      0  STON/O2. 3101282   7.9250   NaN        S  \n",
       "3      0            113803  53.1000  C123        S  \n",
       "4      0            373450   8.0500   NaN        S  "
      ]
     },
     "execution_count": 2,
     "metadata": {},
     "output_type": "execute_result"
    }
   ],
   "source": [
    "qesem=pd.read_csv(\"../input/titanic/train.csv\")\n",
    "qesem.head()"
   ]
  },
  {
   "cell_type": "code",
   "execution_count": 3,
   "id": "d0b532e5",
   "metadata": {
    "execution": {
     "iopub.execute_input": "2021-09-03T00:36:22.781832Z",
     "iopub.status.busy": "2021-09-03T00:36:22.781062Z",
     "iopub.status.idle": "2021-09-03T00:36:22.784266Z",
     "shell.execute_reply": "2021-09-03T00:36:22.784736Z",
     "shell.execute_reply.started": "2021-09-03T00:07:20.193390Z"
    },
    "papermill": {
     "duration": 0.034573,
     "end_time": "2021-09-03T00:36:22.784915",
     "exception": false,
     "start_time": "2021-09-03T00:36:22.750342",
     "status": "completed"
    },
    "tags": []
   },
   "outputs": [],
   "source": [
    "features = [\"Pclass\", \"Sex\", \"SibSp\", \"Parch\"]\n",
    "X=qesem[features]\n"
   ]
  },
  {
   "cell_type": "code",
   "execution_count": 4,
   "id": "3cee6bca",
   "metadata": {
    "execution": {
     "iopub.execute_input": "2021-09-03T00:36:22.836990Z",
     "iopub.status.busy": "2021-09-03T00:36:22.836332Z",
     "iopub.status.idle": "2021-09-03T00:36:22.840077Z",
     "shell.execute_reply": "2021-09-03T00:36:22.839410Z",
     "shell.execute_reply.started": "2021-09-03T00:08:35.363773Z"
    },
    "papermill": {
     "duration": 0.032115,
     "end_time": "2021-09-03T00:36:22.840236",
     "exception": false,
     "start_time": "2021-09-03T00:36:22.808121",
     "status": "completed"
    },
    "tags": []
   },
   "outputs": [],
   "source": [
    "y=qesem.Survived"
   ]
  },
  {
   "cell_type": "code",
   "execution_count": 5,
   "id": "eafcd54b",
   "metadata": {
    "execution": {
     "iopub.execute_input": "2021-09-03T00:36:22.899525Z",
     "iopub.status.busy": "2021-09-03T00:36:22.896691Z",
     "iopub.status.idle": "2021-09-03T00:36:22.905127Z",
     "shell.execute_reply": "2021-09-03T00:36:22.904481Z",
     "shell.execute_reply.started": "2021-09-03T00:10:42.650666Z"
    },
    "papermill": {
     "duration": 0.041476,
     "end_time": "2021-09-03T00:36:22.905283",
     "exception": false,
     "start_time": "2021-09-03T00:36:22.863807",
     "status": "completed"
    },
    "tags": []
   },
   "outputs": [],
   "source": [
    "X=pd.get_dummies(X)"
   ]
  },
  {
   "cell_type": "code",
   "execution_count": 6,
   "id": "04ee785c",
   "metadata": {
    "execution": {
     "iopub.execute_input": "2021-09-03T00:36:22.956222Z",
     "iopub.status.busy": "2021-09-03T00:36:22.955518Z",
     "iopub.status.idle": "2021-09-03T00:36:23.970060Z",
     "shell.execute_reply": "2021-09-03T00:36:23.969422Z",
     "shell.execute_reply.started": "2021-09-03T00:12:35.934739Z"
    },
    "papermill": {
     "duration": 1.041924,
     "end_time": "2021-09-03T00:36:23.970234",
     "exception": false,
     "start_time": "2021-09-03T00:36:22.928310",
     "status": "completed"
    },
    "tags": []
   },
   "outputs": [],
   "source": [
    "from sklearn.model_selection import train_test_split\n"
   ]
  },
  {
   "cell_type": "code",
   "execution_count": 7,
   "id": "e8c758a4",
   "metadata": {
    "execution": {
     "iopub.execute_input": "2021-09-03T00:36:24.024017Z",
     "iopub.status.busy": "2021-09-03T00:36:24.021382Z",
     "iopub.status.idle": "2021-09-03T00:36:24.028026Z",
     "shell.execute_reply": "2021-09-03T00:36:24.027255Z",
     "shell.execute_reply.started": "2021-09-03T00:14:15.426474Z"
    },
    "papermill": {
     "duration": 0.034896,
     "end_time": "2021-09-03T00:36:24.028175",
     "exception": false,
     "start_time": "2021-09-03T00:36:23.993279",
     "status": "completed"
    },
    "tags": []
   },
   "outputs": [],
   "source": [
    "X_train, X_test, y_train, y_test= train_test_split(X,y, test_size=0.25)"
   ]
  },
  {
   "cell_type": "markdown",
   "id": "fe19f147",
   "metadata": {
    "papermill": {
     "duration": 0.022457,
     "end_time": "2021-09-03T00:36:24.073607",
     "exception": false,
     "start_time": "2021-09-03T00:36:24.051150",
     "status": "completed"
    },
    "tags": []
   },
   "source": [
    "# **train model**"
   ]
  },
  {
   "cell_type": "code",
   "execution_count": 8,
   "id": "15e40152",
   "metadata": {
    "execution": {
     "iopub.execute_input": "2021-09-03T00:36:24.123900Z",
     "iopub.status.busy": "2021-09-03T00:36:24.123190Z",
     "iopub.status.idle": "2021-09-03T00:36:24.324962Z",
     "shell.execute_reply": "2021-09-03T00:36:24.324379Z",
     "shell.execute_reply.started": "2021-09-03T00:15:45.523422Z"
    },
    "papermill": {
     "duration": 0.228706,
     "end_time": "2021-09-03T00:36:24.325113",
     "exception": false,
     "start_time": "2021-09-03T00:36:24.096407",
     "status": "completed"
    },
    "tags": []
   },
   "outputs": [],
   "source": [
    "from sklearn.ensemble import RandomForestClassifier"
   ]
  },
  {
   "cell_type": "code",
   "execution_count": 9,
   "id": "7218ac41",
   "metadata": {
    "execution": {
     "iopub.execute_input": "2021-09-03T00:36:24.377585Z",
     "iopub.status.busy": "2021-09-03T00:36:24.376891Z",
     "iopub.status.idle": "2021-09-03T00:36:24.379057Z",
     "shell.execute_reply": "2021-09-03T00:36:24.379604Z",
     "shell.execute_reply.started": "2021-09-03T00:17:14.852043Z"
    },
    "papermill": {
     "duration": 0.030539,
     "end_time": "2021-09-03T00:36:24.379787",
     "exception": false,
     "start_time": "2021-09-03T00:36:24.349248",
     "status": "completed"
    },
    "tags": []
   },
   "outputs": [],
   "source": [
    "model=RandomForestClassifier(n_estimators=100, \n",
    "                             max_depth=5, \n",
    "                             random_state=1)\n"
   ]
  },
  {
   "cell_type": "code",
   "execution_count": 10,
   "id": "a71cf1e9",
   "metadata": {
    "execution": {
     "iopub.execute_input": "2021-09-03T00:36:24.428939Z",
     "iopub.status.busy": "2021-09-03T00:36:24.428271Z",
     "iopub.status.idle": "2021-09-03T00:36:24.636853Z",
     "shell.execute_reply": "2021-09-03T00:36:24.636175Z",
     "shell.execute_reply.started": "2021-09-03T00:17:53.282096Z"
    },
    "papermill": {
     "duration": 0.234354,
     "end_time": "2021-09-03T00:36:24.637006",
     "exception": false,
     "start_time": "2021-09-03T00:36:24.402652",
     "status": "completed"
    },
    "tags": []
   },
   "outputs": [
    {
     "data": {
      "text/plain": [
       "RandomForestClassifier(max_depth=5, random_state=1)"
      ]
     },
     "execution_count": 10,
     "metadata": {},
     "output_type": "execute_result"
    }
   ],
   "source": [
    "model.fit(X_train,y_train)"
   ]
  },
  {
   "cell_type": "markdown",
   "id": "fb5c8765",
   "metadata": {
    "papermill": {
     "duration": 0.023371,
     "end_time": "2021-09-03T00:36:24.683811",
     "exception": false,
     "start_time": "2021-09-03T00:36:24.660440",
     "status": "completed"
    },
    "tags": []
   },
   "source": [
    "# **evaluate model**"
   ]
  },
  {
   "cell_type": "code",
   "execution_count": 11,
   "id": "17a7c893",
   "metadata": {
    "execution": {
     "iopub.execute_input": "2021-09-03T00:36:24.738147Z",
     "iopub.status.busy": "2021-09-03T00:36:24.737465Z",
     "iopub.status.idle": "2021-09-03T00:36:24.753461Z",
     "shell.execute_reply": "2021-09-03T00:36:24.753953Z",
     "shell.execute_reply.started": "2021-09-03T00:19:02.624202Z"
    },
    "papermill": {
     "duration": 0.046607,
     "end_time": "2021-09-03T00:36:24.754122",
     "exception": false,
     "start_time": "2021-09-03T00:36:24.707515",
     "status": "completed"
    },
    "tags": []
   },
   "outputs": [
    {
     "data": {
      "text/plain": [
       "0.7802690582959642"
      ]
     },
     "execution_count": 11,
     "metadata": {},
     "output_type": "execute_result"
    }
   ],
   "source": [
    "model.score(X_test,y_test)"
   ]
  },
  {
   "cell_type": "markdown",
   "id": "3555a705",
   "metadata": {
    "papermill": {
     "duration": 0.023201,
     "end_time": "2021-09-03T00:36:24.800801",
     "exception": false,
     "start_time": "2021-09-03T00:36:24.777600",
     "status": "completed"
    },
    "tags": []
   },
   "source": [
    "# Prediction****"
   ]
  },
  {
   "cell_type": "code",
   "execution_count": 12,
   "id": "d1742733",
   "metadata": {
    "execution": {
     "iopub.execute_input": "2021-09-03T00:36:24.855092Z",
     "iopub.status.busy": "2021-09-03T00:36:24.853999Z",
     "iopub.status.idle": "2021-09-03T00:36:24.876338Z",
     "shell.execute_reply": "2021-09-03T00:36:24.875705Z",
     "shell.execute_reply.started": "2021-09-03T00:25:18.912988Z"
    },
    "papermill": {
     "duration": 0.05178,
     "end_time": "2021-09-03T00:36:24.876505",
     "exception": false,
     "start_time": "2021-09-03T00:36:24.824725",
     "status": "completed"
    },
    "tags": []
   },
   "outputs": [],
   "source": [
    "prediction=model.predict(X)"
   ]
  },
  {
   "cell_type": "code",
   "execution_count": 13,
   "id": "cddbadf5",
   "metadata": {
    "collapsed": true,
    "execution": {
     "iopub.execute_input": "2021-09-03T00:36:24.931594Z",
     "iopub.status.busy": "2021-09-03T00:36:24.930902Z",
     "iopub.status.idle": "2021-09-03T00:36:24.936012Z",
     "shell.execute_reply": "2021-09-03T00:36:24.935457Z",
     "shell.execute_reply.started": "2021-09-03T00:25:20.738615Z"
    },
    "jupyter": {
     "outputs_hidden": true
    },
    "papermill": {
     "duration": 0.03601,
     "end_time": "2021-09-03T00:36:24.936155",
     "exception": false,
     "start_time": "2021-09-03T00:36:24.900145",
     "status": "completed"
    },
    "tags": []
   },
   "outputs": [
    {
     "data": {
      "text/plain": [
       "array([0, 1, 1, 1, 0, 0, 0, 0, 1, 1, 1, 1, 0, 0, 1, 1, 0, 0, 1, 1, 0, 0,\n",
       "       1, 0, 0, 0, 0, 0, 1, 0, 0, 1, 1, 0, 0, 0, 0, 0, 1, 1, 1, 1, 0, 1,\n",
       "       1, 0, 0, 1, 0, 1, 0, 0, 1, 1, 0, 0, 1, 0, 1, 0, 0, 1, 0, 0, 0, 0,\n",
       "       1, 0, 0, 0, 0, 0, 0, 0, 0, 0, 0, 0, 1, 1, 0, 0, 1, 0, 1, 1, 0, 0,\n",
       "       1, 0, 0, 0, 0, 0, 0, 0, 0, 0, 1, 0, 1, 0, 0, 0, 0, 0, 1, 0, 0, 1,\n",
       "       0, 1, 0, 1, 1, 0, 0, 0, 0, 0, 0, 0, 0, 1, 0, 0, 0, 0, 1, 0, 0, 0,\n",
       "       1, 1, 0, 0, 1, 0, 0, 0, 1, 1, 1, 0, 0, 0, 0, 0, 1, 0, 0, 1, 0, 0,\n",
       "       0, 0, 1, 0, 0, 0, 0, 1, 0, 0, 0, 0, 1, 0, 0, 0, 0, 0, 1, 0, 0, 0,\n",
       "       0, 1, 0, 0, 0, 0, 0, 0, 1, 0, 1, 0, 0, 0, 1, 0, 1, 0, 1, 1, 0, 0,\n",
       "       1, 1, 0, 0, 0, 0, 0, 1, 0, 0, 1, 0, 0, 1, 0, 0, 0, 1, 1, 0, 1, 0,\n",
       "       0, 0, 0, 0, 0, 0, 0, 0, 0, 0, 1, 0, 0, 0, 0, 1, 0, 1, 0, 0, 1, 1,\n",
       "       0, 0, 0, 1, 1, 1, 0, 0, 0, 1, 0, 0, 1, 1, 1, 1, 1, 1, 0, 0, 0, 0,\n",
       "       1, 0, 0, 0, 1, 1, 0, 0, 1, 0, 1, 1, 1, 0, 0, 1, 0, 0, 0, 0, 0, 0,\n",
       "       0, 0, 0, 1, 1, 1, 0, 1, 0, 0, 0, 1, 0, 1, 1, 0, 0, 1, 0, 0, 1, 1,\n",
       "       0, 1, 1, 1, 1, 0, 0, 1, 1, 0, 1, 1, 0, 0, 1, 1, 0, 1, 0, 1, 1, 1,\n",
       "       1, 0, 0, 0, 1, 0, 0, 1, 0, 0, 0, 1, 0, 0, 0, 1, 1, 1, 0, 0, 0, 0,\n",
       "       0, 0, 0, 0, 1, 1, 1, 1, 0, 0, 1, 0, 0, 0, 1, 1, 1, 1, 0, 0, 0, 0,\n",
       "       0, 1, 1, 0, 0, 0, 1, 1, 0, 1, 0, 0, 0, 1, 0, 1, 0, 0, 0, 1, 1, 0,\n",
       "       1, 0, 0, 1, 0, 0, 1, 0, 1, 0, 0, 0, 0, 0, 0, 0, 1, 0, 0, 1, 1, 1,\n",
       "       0, 1, 0, 0, 0, 1, 0, 0, 1, 1, 0, 0, 0, 1, 1, 0, 0, 1, 0, 1, 0, 0,\n",
       "       1, 0, 0, 1, 0, 0, 1, 0, 1, 0, 0, 0, 0, 0, 0, 0, 0, 1, 1, 0, 0, 0,\n",
       "       0, 0, 0, 0, 0, 0, 0, 1, 0, 0, 1, 1, 1, 0, 0, 0, 0, 1, 0, 0, 0, 1,\n",
       "       0, 0, 1, 0, 0, 0, 0, 0, 0, 0, 0, 0, 1, 0, 1, 0, 0, 1, 1, 1, 1, 0,\n",
       "       1, 0, 0, 0, 0, 0, 0, 1, 0, 0, 1, 0, 1, 0, 1, 0, 0, 1, 0, 0, 1, 0,\n",
       "       0, 0, 1, 0, 0, 1, 1, 1, 0, 1, 0, 1, 1, 0, 0, 0, 0, 0, 1, 0, 0, 0,\n",
       "       0, 0, 0, 0, 1, 0, 1, 0, 1, 1, 0, 0, 0, 0, 1, 0, 0, 0, 0, 0, 0, 1,\n",
       "       0, 1, 0, 0, 1, 1, 1, 0, 1, 1, 0, 0, 0, 1, 0, 0, 0, 0, 0, 1, 0, 1,\n",
       "       0, 0, 1, 0, 0, 0, 1, 0, 0, 0, 0, 0, 0, 0, 1, 1, 0, 0, 1, 0, 0, 1,\n",
       "       0, 1, 1, 0, 0, 0, 0, 0, 0, 0, 0, 1, 0, 0, 0, 0, 0, 0, 0, 1, 0, 0,\n",
       "       0, 0, 0, 1, 0, 0, 1, 0, 0, 0, 0, 1, 0, 1, 0, 1, 1, 0, 0, 1, 0, 0,\n",
       "       1, 0, 0, 0, 0, 0, 0, 0, 0, 1, 1, 0, 0, 0, 0, 0, 0, 1, 0, 0, 1, 0,\n",
       "       0, 0, 0, 0, 0, 0, 0, 1, 0, 1, 0, 0, 0, 0, 0, 1, 0, 0, 1, 0, 1, 0,\n",
       "       0, 0, 1, 0, 1, 0, 1, 0, 0, 0, 0, 0, 1, 1, 0, 0, 1, 0, 0, 0, 0, 0,\n",
       "       1, 1, 0, 1, 1, 0, 0, 0, 0, 0, 0, 0, 0, 0, 0, 0, 1, 0, 0, 0, 0, 1,\n",
       "       0, 0, 1, 0, 0, 0, 1, 0, 0, 0, 0, 1, 0, 0, 0, 1, 0, 1, 0, 1, 0, 0,\n",
       "       0, 0, 1, 0, 1, 0, 0, 1, 0, 1, 1, 1, 0, 0, 0, 0, 1, 0, 0, 0, 0, 0,\n",
       "       0, 0, 0, 0, 1, 1, 0, 1, 0, 1, 0, 0, 0, 0, 0, 1, 0, 1, 0, 0, 0, 0,\n",
       "       0, 0, 1, 0, 0, 0, 1, 0, 0, 1, 0, 0, 0, 1, 0, 1, 1, 0, 0, 0, 0, 1,\n",
       "       0, 0, 0, 0, 0, 0, 1, 0, 0, 0, 0, 0, 0, 1, 0, 0, 1, 1, 1, 1, 1, 0,\n",
       "       1, 0, 0, 0, 1, 0, 0, 1, 1, 0, 0, 0, 0, 1, 0, 0, 1, 1, 0, 0, 0, 1,\n",
       "       1, 0, 1, 0, 0, 0, 0, 1, 0, 0, 0])"
      ]
     },
     "execution_count": 13,
     "metadata": {},
     "output_type": "execute_result"
    }
   ],
   "source": [
    "prediction"
   ]
  },
  {
   "cell_type": "code",
   "execution_count": 14,
   "id": "a3e1ee18",
   "metadata": {
    "execution": {
     "iopub.execute_input": "2021-09-03T00:36:24.989789Z",
     "iopub.status.busy": "2021-09-03T00:36:24.989100Z",
     "iopub.status.idle": "2021-09-03T00:36:24.991694Z",
     "shell.execute_reply": "2021-09-03T00:36:24.992139Z",
     "shell.execute_reply.started": "2021-09-03T00:25:41.041636Z"
    },
    "papermill": {
     "duration": 0.032114,
     "end_time": "2021-09-03T00:36:24.992332",
     "exception": false,
     "start_time": "2021-09-03T00:36:24.960218",
     "status": "completed"
    },
    "tags": []
   },
   "outputs": [],
   "source": [
    "output=pd.DataFrame({'PassengerId': qesem.PassengerId,'Survived': prediction})"
   ]
  },
  {
   "cell_type": "code",
   "execution_count": 15,
   "id": "b86603f7",
   "metadata": {
    "execution": {
     "iopub.execute_input": "2021-09-03T00:36:25.043143Z",
     "iopub.status.busy": "2021-09-03T00:36:25.042474Z",
     "iopub.status.idle": "2021-09-03T00:36:25.051927Z",
     "shell.execute_reply": "2021-09-03T00:36:25.051388Z",
     "shell.execute_reply.started": "2021-09-03T00:25:56.773070Z"
    },
    "papermill": {
     "duration": 0.035934,
     "end_time": "2021-09-03T00:36:25.052073",
     "exception": false,
     "start_time": "2021-09-03T00:36:25.016139",
     "status": "completed"
    },
    "tags": []
   },
   "outputs": [
    {
     "data": {
      "text/html": [
       "<div>\n",
       "<style scoped>\n",
       "    .dataframe tbody tr th:only-of-type {\n",
       "        vertical-align: middle;\n",
       "    }\n",
       "\n",
       "    .dataframe tbody tr th {\n",
       "        vertical-align: top;\n",
       "    }\n",
       "\n",
       "    .dataframe thead th {\n",
       "        text-align: right;\n",
       "    }\n",
       "</style>\n",
       "<table border=\"1\" class=\"dataframe\">\n",
       "  <thead>\n",
       "    <tr style=\"text-align: right;\">\n",
       "      <th></th>\n",
       "      <th>PassengerId</th>\n",
       "      <th>Survived</th>\n",
       "    </tr>\n",
       "  </thead>\n",
       "  <tbody>\n",
       "    <tr>\n",
       "      <th>0</th>\n",
       "      <td>1</td>\n",
       "      <td>0</td>\n",
       "    </tr>\n",
       "    <tr>\n",
       "      <th>1</th>\n",
       "      <td>2</td>\n",
       "      <td>1</td>\n",
       "    </tr>\n",
       "    <tr>\n",
       "      <th>2</th>\n",
       "      <td>3</td>\n",
       "      <td>1</td>\n",
       "    </tr>\n",
       "    <tr>\n",
       "      <th>3</th>\n",
       "      <td>4</td>\n",
       "      <td>1</td>\n",
       "    </tr>\n",
       "    <tr>\n",
       "      <th>4</th>\n",
       "      <td>5</td>\n",
       "      <td>0</td>\n",
       "    </tr>\n",
       "  </tbody>\n",
       "</table>\n",
       "</div>"
      ],
      "text/plain": [
       "   PassengerId  Survived\n",
       "0            1         0\n",
       "1            2         1\n",
       "2            3         1\n",
       "3            4         1\n",
       "4            5         0"
      ]
     },
     "execution_count": 15,
     "metadata": {},
     "output_type": "execute_result"
    }
   ],
   "source": [
    "output.head()"
   ]
  },
  {
   "cell_type": "code",
   "execution_count": 16,
   "id": "1fd53750",
   "metadata": {
    "execution": {
     "iopub.execute_input": "2021-09-03T00:36:25.109455Z",
     "iopub.status.busy": "2021-09-03T00:36:25.108373Z",
     "iopub.status.idle": "2021-09-03T00:36:25.117373Z",
     "shell.execute_reply": "2021-09-03T00:36:25.116767Z",
     "shell.execute_reply.started": "2021-09-03T00:27:11.658355Z"
    },
    "papermill": {
     "duration": 0.038751,
     "end_time": "2021-09-03T00:36:25.117533",
     "exception": false,
     "start_time": "2021-09-03T00:36:25.078782",
     "status": "completed"
    },
    "tags": []
   },
   "outputs": [],
   "source": [
    "output.to_csv('my_first_model.csv', index=False)"
   ]
  },
  {
   "cell_type": "code",
   "execution_count": null,
   "id": "776489af",
   "metadata": {
    "papermill": {
     "duration": 0.02442,
     "end_time": "2021-09-03T00:36:25.167019",
     "exception": false,
     "start_time": "2021-09-03T00:36:25.142599",
     "status": "completed"
    },
    "tags": []
   },
   "outputs": [],
   "source": []
  },
  {
   "cell_type": "code",
   "execution_count": 17,
   "id": "595fcee4",
   "metadata": {
    "execution": {
     "iopub.execute_input": "2021-09-03T00:36:25.222794Z",
     "iopub.status.busy": "2021-09-03T00:36:25.222051Z",
     "iopub.status.idle": "2021-09-03T00:36:25.234406Z",
     "shell.execute_reply": "2021-09-03T00:36:25.233661Z",
     "shell.execute_reply.started": "2021-09-03T00:30:42.051310Z"
    },
    "papermill": {
     "duration": 0.043234,
     "end_time": "2021-09-03T00:36:25.234566",
     "exception": false,
     "start_time": "2021-09-03T00:36:25.191332",
     "status": "completed"
    },
    "tags": []
   },
   "outputs": [],
   "source": [
    "test=pd.read_csv(\"../input/titanic/test.csv\")"
   ]
  },
  {
   "cell_type": "code",
   "execution_count": 18,
   "id": "bc05748a",
   "metadata": {
    "execution": {
     "iopub.execute_input": "2021-09-03T00:36:25.295706Z",
     "iopub.status.busy": "2021-09-03T00:36:25.295023Z",
     "iopub.status.idle": "2021-09-03T00:36:25.298542Z",
     "shell.execute_reply": "2021-09-03T00:36:25.297984Z",
     "shell.execute_reply.started": "2021-09-03T00:33:54.965002Z"
    },
    "papermill": {
     "duration": 0.039352,
     "end_time": "2021-09-03T00:36:25.298695",
     "exception": false,
     "start_time": "2021-09-03T00:36:25.259343",
     "status": "completed"
    },
    "tags": []
   },
   "outputs": [],
   "source": [
    "Xa_test = pd.get_dummies(test[features])"
   ]
  },
  {
   "cell_type": "code",
   "execution_count": 19,
   "id": "4b3d2eab",
   "metadata": {
    "execution": {
     "iopub.execute_input": "2021-09-03T00:36:25.356237Z",
     "iopub.status.busy": "2021-09-03T00:36:25.355516Z",
     "iopub.status.idle": "2021-09-03T00:36:25.372651Z",
     "shell.execute_reply": "2021-09-03T00:36:25.372024Z",
     "shell.execute_reply.started": "2021-09-03T00:34:25.028507Z"
    },
    "papermill": {
     "duration": 0.049395,
     "end_time": "2021-09-03T00:36:25.372800",
     "exception": false,
     "start_time": "2021-09-03T00:36:25.323405",
     "status": "completed"
    },
    "tags": []
   },
   "outputs": [],
   "source": [
    "Xa_test_result= model.predict(Xa_test)"
   ]
  },
  {
   "cell_type": "code",
   "execution_count": 20,
   "id": "74dacd82",
   "metadata": {
    "execution": {
     "iopub.execute_input": "2021-09-03T00:36:25.429515Z",
     "iopub.status.busy": "2021-09-03T00:36:25.428779Z",
     "iopub.status.idle": "2021-09-03T00:36:25.432860Z",
     "shell.execute_reply": "2021-09-03T00:36:25.433377Z",
     "shell.execute_reply.started": "2021-09-03T00:35:27.958924Z"
    },
    "papermill": {
     "duration": 0.036304,
     "end_time": "2021-09-03T00:36:25.433562",
     "exception": false,
     "start_time": "2021-09-03T00:36:25.397258",
     "status": "completed"
    },
    "tags": []
   },
   "outputs": [
    {
     "name": "stdout",
     "output_type": "stream",
     "text": [
      "Your submission was successfully saved!\n"
     ]
    }
   ],
   "source": [
    "output = pd.DataFrame({'PassengerId': test.PassengerId, 'Survived': Xa_test_result})\n",
    "output.to_csv('my_submission.csv', index=False)\n",
    "print(\"Your submission was successfully saved!\")"
   ]
  },
  {
   "cell_type": "code",
   "execution_count": null,
   "id": "50fde3c8",
   "metadata": {
    "papermill": {
     "duration": 0.024356,
     "end_time": "2021-09-03T00:36:25.482538",
     "exception": false,
     "start_time": "2021-09-03T00:36:25.458182",
     "status": "completed"
    },
    "tags": []
   },
   "outputs": [],
   "source": []
  },
  {
   "cell_type": "code",
   "execution_count": null,
   "id": "012c2151",
   "metadata": {
    "papermill": {
     "duration": 0.025236,
     "end_time": "2021-09-03T00:36:25.532393",
     "exception": false,
     "start_time": "2021-09-03T00:36:25.507157",
     "status": "completed"
    },
    "tags": []
   },
   "outputs": [],
   "source": []
  },
  {
   "cell_type": "code",
   "execution_count": null,
   "id": "802619c9",
   "metadata": {
    "papermill": {
     "duration": 0.024268,
     "end_time": "2021-09-03T00:36:25.581273",
     "exception": false,
     "start_time": "2021-09-03T00:36:25.557005",
     "status": "completed"
    },
    "tags": []
   },
   "outputs": [],
   "source": []
  },
  {
   "cell_type": "code",
   "execution_count": null,
   "id": "58168d8c",
   "metadata": {
    "papermill": {
     "duration": 0.024891,
     "end_time": "2021-09-03T00:36:25.630809",
     "exception": false,
     "start_time": "2021-09-03T00:36:25.605918",
     "status": "completed"
    },
    "tags": []
   },
   "outputs": [],
   "source": []
  },
  {
   "cell_type": "code",
   "execution_count": null,
   "id": "20cb0973",
   "metadata": {
    "papermill": {
     "duration": 0.024593,
     "end_time": "2021-09-03T00:36:25.680410",
     "exception": false,
     "start_time": "2021-09-03T00:36:25.655817",
     "status": "completed"
    },
    "tags": []
   },
   "outputs": [],
   "source": []
  }
 ],
 "metadata": {
  "kernelspec": {
   "display_name": "Python 3",
   "language": "python",
   "name": "python3"
  },
  "language_info": {
   "codemirror_mode": {
    "name": "ipython",
    "version": 3
   },
   "file_extension": ".py",
   "mimetype": "text/x-python",
   "name": "python",
   "nbconvert_exporter": "python",
   "pygments_lexer": "ipython3",
   "version": "3.7.10"
  },
  "papermill": {
   "default_parameters": {},
   "duration": 12.846404,
   "end_time": "2021-09-03T00:36:27.142498",
   "environment_variables": {},
   "exception": null,
   "input_path": "__notebook__.ipynb",
   "output_path": "__notebook__.ipynb",
   "parameters": {},
   "start_time": "2021-09-03T00:36:14.296094",
   "version": "2.3.3"
  }
 },
 "nbformat": 4,
 "nbformat_minor": 5
}
