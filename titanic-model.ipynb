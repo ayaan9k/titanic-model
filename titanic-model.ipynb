{
 "cells": [
  {
   "cell_type": "code",
   "execution_count": 1,
   "id": "db028dd7",
   "metadata": {
    "_cell_guid": "b1076dfc-b9ad-4769-8c92-a6c4dae69d19",
    "_uuid": "8f2839f25d086af736a60e9eeb907d3b93b6e0e5",
    "execution": {
     "iopub.execute_input": "2021-09-03T06:28:52.757422Z",
     "iopub.status.busy": "2021-09-03T06:28:52.756431Z",
     "iopub.status.idle": "2021-09-03T06:28:52.762222Z",
     "shell.execute_reply": "2021-09-03T06:28:52.761341Z",
     "shell.execute_reply.started": "2021-09-03T06:24:23.328938Z"
    },
    "papermill": {
     "duration": 0.038538,
     "end_time": "2021-09-03T06:28:52.762464",
     "exception": false,
     "start_time": "2021-09-03T06:28:52.723926",
     "status": "completed"
    },
    "tags": []
   },
   "outputs": [
    {
     "name": "stdout",
     "output_type": "stream",
     "text": [
      "/kaggle/input/titanic/train.csv\n",
      "/kaggle/input/titanic/test.csv\n",
      "/kaggle/input/titanic/gender_submission.csv\n"
     ]
    }
   ],
   "source": [
    "# This Python 3 environment comes with many helpful analytics libraries installed\n",
    "# It is defined by the kaggle/python Docker image: https://github.com/kaggle/docker-python\n",
    "# For example, here's several helpful packages to load\n",
    "\n",
    "import numpy as np # linear algebra\n",
    "import pandas as pd # data processing, CSV file I/O (e.g. pd.read_csv)\n",
    "\n",
    "# Input data files are available in the read-only \"../input/\" directory\n",
    "# For example, running this (by clicking run or pressing Shift+Enter) will list all files under the input directory\n",
    "\n",
    "import os\n",
    "for dirname, _, filenames in os.walk('/kaggle/input'):\n",
    "    for filename in filenames:\n",
    "        print(os.path.join(dirname, filename))\n",
    "\n",
    "# You can write up to 20GB to the current directory (/kaggle/working/) that gets preserved as output when you create a version using \"Save & Run All\" \n",
    "# You can also write temporary files to /kaggle/temp/, but they won't be saved outside of the current session"
   ]
  },
  {
   "cell_type": "code",
   "execution_count": 2,
   "id": "7c07b816",
   "metadata": {
    "execution": {
     "iopub.execute_input": "2021-09-03T06:28:52.806258Z",
     "iopub.status.busy": "2021-09-03T06:28:52.805301Z",
     "iopub.status.idle": "2021-09-03T06:28:52.938394Z",
     "shell.execute_reply": "2021-09-03T06:28:52.938868Z",
     "shell.execute_reply.started": "2021-09-03T06:24:30.326113Z"
    },
    "papermill": {
     "duration": 0.156478,
     "end_time": "2021-09-03T06:28:52.939040",
     "exception": false,
     "start_time": "2021-09-03T06:28:52.782562",
     "status": "completed"
    },
    "tags": []
   },
   "outputs": [
    {
     "data": {
      "text/html": [
       "<div>\n",
       "<style scoped>\n",
       "    .dataframe tbody tr th:only-of-type {\n",
       "        vertical-align: middle;\n",
       "    }\n",
       "\n",
       "    .dataframe tbody tr th {\n",
       "        vertical-align: top;\n",
       "    }\n",
       "\n",
       "    .dataframe thead th {\n",
       "        text-align: right;\n",
       "    }\n",
       "</style>\n",
       "<table border=\"1\" class=\"dataframe\">\n",
       "  <thead>\n",
       "    <tr style=\"text-align: right;\">\n",
       "      <th></th>\n",
       "      <th>PassengerId</th>\n",
       "      <th>Survived</th>\n",
       "      <th>Pclass</th>\n",
       "      <th>Name</th>\n",
       "      <th>Sex</th>\n",
       "      <th>Age</th>\n",
       "      <th>SibSp</th>\n",
       "      <th>Parch</th>\n",
       "      <th>Ticket</th>\n",
       "      <th>Fare</th>\n",
       "      <th>Cabin</th>\n",
       "      <th>Embarked</th>\n",
       "    </tr>\n",
       "  </thead>\n",
       "  <tbody>\n",
       "    <tr>\n",
       "      <th>0</th>\n",
       "      <td>1</td>\n",
       "      <td>0</td>\n",
       "      <td>3</td>\n",
       "      <td>Braund, Mr. Owen Harris</td>\n",
       "      <td>male</td>\n",
       "      <td>22.0</td>\n",
       "      <td>1</td>\n",
       "      <td>0</td>\n",
       "      <td>A/5 21171</td>\n",
       "      <td>7.2500</td>\n",
       "      <td>NaN</td>\n",
       "      <td>S</td>\n",
       "    </tr>\n",
       "    <tr>\n",
       "      <th>1</th>\n",
       "      <td>2</td>\n",
       "      <td>1</td>\n",
       "      <td>1</td>\n",
       "      <td>Cumings, Mrs. John Bradley (Florence Briggs Th...</td>\n",
       "      <td>female</td>\n",
       "      <td>38.0</td>\n",
       "      <td>1</td>\n",
       "      <td>0</td>\n",
       "      <td>PC 17599</td>\n",
       "      <td>71.2833</td>\n",
       "      <td>C85</td>\n",
       "      <td>C</td>\n",
       "    </tr>\n",
       "    <tr>\n",
       "      <th>2</th>\n",
       "      <td>3</td>\n",
       "      <td>1</td>\n",
       "      <td>3</td>\n",
       "      <td>Heikkinen, Miss. Laina</td>\n",
       "      <td>female</td>\n",
       "      <td>26.0</td>\n",
       "      <td>0</td>\n",
       "      <td>0</td>\n",
       "      <td>STON/O2. 3101282</td>\n",
       "      <td>7.9250</td>\n",
       "      <td>NaN</td>\n",
       "      <td>S</td>\n",
       "    </tr>\n",
       "    <tr>\n",
       "      <th>3</th>\n",
       "      <td>4</td>\n",
       "      <td>1</td>\n",
       "      <td>1</td>\n",
       "      <td>Futrelle, Mrs. Jacques Heath (Lily May Peel)</td>\n",
       "      <td>female</td>\n",
       "      <td>35.0</td>\n",
       "      <td>1</td>\n",
       "      <td>0</td>\n",
       "      <td>113803</td>\n",
       "      <td>53.1000</td>\n",
       "      <td>C123</td>\n",
       "      <td>S</td>\n",
       "    </tr>\n",
       "    <tr>\n",
       "      <th>4</th>\n",
       "      <td>5</td>\n",
       "      <td>0</td>\n",
       "      <td>3</td>\n",
       "      <td>Allen, Mr. William Henry</td>\n",
       "      <td>male</td>\n",
       "      <td>35.0</td>\n",
       "      <td>0</td>\n",
       "      <td>0</td>\n",
       "      <td>373450</td>\n",
       "      <td>8.0500</td>\n",
       "      <td>NaN</td>\n",
       "      <td>S</td>\n",
       "    </tr>\n",
       "  </tbody>\n",
       "</table>\n",
       "</div>"
      ],
      "text/plain": [
       "   PassengerId  Survived  Pclass  \\\n",
       "0            1         0       3   \n",
       "1            2         1       1   \n",
       "2            3         1       3   \n",
       "3            4         1       1   \n",
       "4            5         0       3   \n",
       "\n",
       "                                                Name     Sex   Age  SibSp  \\\n",
       "0                            Braund, Mr. Owen Harris    male  22.0      1   \n",
       "1  Cumings, Mrs. John Bradley (Florence Briggs Th...  female  38.0      1   \n",
       "2                             Heikkinen, Miss. Laina  female  26.0      0   \n",
       "3       Futrelle, Mrs. Jacques Heath (Lily May Peel)  female  35.0      1   \n",
       "4                           Allen, Mr. William Henry    male  35.0      0   \n",
       "\n",
       "   Parch            Ticket     Fare Cabin Embarked  \n",
       "0      0         A/5 21171   7.2500   NaN        S  \n",
       "1      0          PC 17599  71.2833   C85        C  \n",
       "2      0  STON/O2. 3101282   7.9250   NaN        S  \n",
       "3      0            113803  53.1000  C123        S  \n",
       "4      0            373450   8.0500   NaN        S  "
      ]
     },
     "execution_count": 2,
     "metadata": {},
     "output_type": "execute_result"
    }
   ],
   "source": [
    "qesem=pd.read_csv(\"../input/titanic/train.csv\")\n",
    "qesem.head()"
   ]
  },
  {
   "cell_type": "code",
   "execution_count": 3,
   "id": "28c90f4f",
   "metadata": {
    "execution": {
     "iopub.execute_input": "2021-09-03T06:28:52.986051Z",
     "iopub.status.busy": "2021-09-03T06:28:52.985330Z",
     "iopub.status.idle": "2021-09-03T06:28:52.988157Z",
     "shell.execute_reply": "2021-09-03T06:28:52.987676Z",
     "shell.execute_reply.started": "2021-09-03T06:24:36.500083Z"
    },
    "papermill": {
     "duration": 0.030111,
     "end_time": "2021-09-03T06:28:52.988295",
     "exception": false,
     "start_time": "2021-09-03T06:28:52.958184",
     "status": "completed"
    },
    "tags": []
   },
   "outputs": [],
   "source": [
    "features = [\"Pclass\", \"Sex\", \"SibSp\", \"Parch\"]\n",
    "X=qesem[features]"
   ]
  },
  {
   "cell_type": "code",
   "execution_count": 4,
   "id": "be19178a",
   "metadata": {
    "execution": {
     "iopub.execute_input": "2021-09-03T06:28:53.032023Z",
     "iopub.status.busy": "2021-09-03T06:28:53.031336Z",
     "iopub.status.idle": "2021-09-03T06:28:53.034392Z",
     "shell.execute_reply": "2021-09-03T06:28:53.033849Z",
     "shell.execute_reply.started": "2021-09-03T06:24:39.963176Z"
    },
    "papermill": {
     "duration": 0.026492,
     "end_time": "2021-09-03T06:28:53.034545",
     "exception": false,
     "start_time": "2021-09-03T06:28:53.008053",
     "status": "completed"
    },
    "tags": []
   },
   "outputs": [],
   "source": [
    "y=qesem.Survived"
   ]
  },
  {
   "cell_type": "code",
   "execution_count": 5,
   "id": "3b6c4980",
   "metadata": {
    "execution": {
     "iopub.execute_input": "2021-09-03T06:28:53.082588Z",
     "iopub.status.busy": "2021-09-03T06:28:53.081891Z",
     "iopub.status.idle": "2021-09-03T06:28:53.088596Z",
     "shell.execute_reply": "2021-09-03T06:28:53.089114Z",
     "shell.execute_reply.started": "2021-09-03T06:24:41.875996Z"
    },
    "papermill": {
     "duration": 0.035479,
     "end_time": "2021-09-03T06:28:53.089283",
     "exception": false,
     "start_time": "2021-09-03T06:28:53.053804",
     "status": "completed"
    },
    "tags": []
   },
   "outputs": [],
   "source": [
    "X=pd.get_dummies(X)"
   ]
  },
  {
   "cell_type": "code",
   "execution_count": 6,
   "id": "80d42391",
   "metadata": {
    "execution": {
     "iopub.execute_input": "2021-09-03T06:28:53.132199Z",
     "iopub.status.busy": "2021-09-03T06:28:53.131533Z",
     "iopub.status.idle": "2021-09-03T06:28:54.103091Z",
     "shell.execute_reply": "2021-09-03T06:28:54.103850Z",
     "shell.execute_reply.started": "2021-09-03T06:24:44.233143Z"
    },
    "papermill": {
     "duration": 0.995529,
     "end_time": "2021-09-03T06:28:54.104036",
     "exception": false,
     "start_time": "2021-09-03T06:28:53.108507",
     "status": "completed"
    },
    "tags": []
   },
   "outputs": [],
   "source": [
    "from sklearn.model_selection import train_test_split"
   ]
  },
  {
   "cell_type": "code",
   "execution_count": 7,
   "id": "19a27462",
   "metadata": {
    "execution": {
     "iopub.execute_input": "2021-09-03T06:28:54.146731Z",
     "iopub.status.busy": "2021-09-03T06:28:54.145742Z",
     "iopub.status.idle": "2021-09-03T06:28:54.154017Z",
     "shell.execute_reply": "2021-09-03T06:28:54.154570Z",
     "shell.execute_reply.started": "2021-09-03T06:24:48.196627Z"
    },
    "papermill": {
     "duration": 0.030761,
     "end_time": "2021-09-03T06:28:54.154748",
     "exception": false,
     "start_time": "2021-09-03T06:28:54.123987",
     "status": "completed"
    },
    "tags": []
   },
   "outputs": [],
   "source": [
    "X_train, X_test, y_train, y_test= train_test_split(X,y, test_size=0.25)"
   ]
  },
  {
   "cell_type": "markdown",
   "id": "53a35b1c",
   "metadata": {
    "papermill": {
     "duration": 0.018822,
     "end_time": "2021-09-03T06:28:54.194757",
     "exception": false,
     "start_time": "2021-09-03T06:28:54.175935",
     "status": "completed"
    },
    "tags": []
   },
   "source": [
    "# **train model**"
   ]
  },
  {
   "cell_type": "code",
   "execution_count": 8,
   "id": "ac0d1dbd",
   "metadata": {
    "execution": {
     "iopub.execute_input": "2021-09-03T06:28:54.237213Z",
     "iopub.status.busy": "2021-09-03T06:28:54.236265Z",
     "iopub.status.idle": "2021-09-03T06:28:54.444040Z",
     "shell.execute_reply": "2021-09-03T06:28:54.443465Z",
     "shell.execute_reply.started": "2021-09-03T06:24:51.560181Z"
    },
    "papermill": {
     "duration": 0.23056,
     "end_time": "2021-09-03T06:28:54.444214",
     "exception": false,
     "start_time": "2021-09-03T06:28:54.213654",
     "status": "completed"
    },
    "tags": []
   },
   "outputs": [],
   "source": [
    "from sklearn.ensemble import RandomForestClassifier"
   ]
  },
  {
   "cell_type": "code",
   "execution_count": 9,
   "id": "c2968a0e",
   "metadata": {
    "execution": {
     "iopub.execute_input": "2021-09-03T06:28:54.487136Z",
     "iopub.status.busy": "2021-09-03T06:28:54.486518Z",
     "iopub.status.idle": "2021-09-03T06:28:54.489409Z",
     "shell.execute_reply": "2021-09-03T06:28:54.488895Z",
     "shell.execute_reply.started": "2021-09-03T06:24:53.843109Z"
    },
    "papermill": {
     "duration": 0.026215,
     "end_time": "2021-09-03T06:28:54.489553",
     "exception": false,
     "start_time": "2021-09-03T06:28:54.463338",
     "status": "completed"
    },
    "tags": []
   },
   "outputs": [],
   "source": [
    "model=RandomForestClassifier(n_estimators=100, \n",
    "                             max_depth=5, \n",
    "                             random_state=1)"
   ]
  },
  {
   "cell_type": "code",
   "execution_count": 10,
   "id": "810afa1a",
   "metadata": {
    "execution": {
     "iopub.execute_input": "2021-09-03T06:28:54.550270Z",
     "iopub.status.busy": "2021-09-03T06:28:54.534283Z",
     "iopub.status.idle": "2021-09-03T06:28:54.738194Z",
     "shell.execute_reply": "2021-09-03T06:28:54.737640Z",
     "shell.execute_reply.started": "2021-09-03T06:24:56.487370Z"
    },
    "papermill": {
     "duration": 0.229622,
     "end_time": "2021-09-03T06:28:54.738334",
     "exception": false,
     "start_time": "2021-09-03T06:28:54.508712",
     "status": "completed"
    },
    "tags": []
   },
   "outputs": [
    {
     "data": {
      "text/plain": [
       "RandomForestClassifier(max_depth=5, random_state=1)"
      ]
     },
     "execution_count": 10,
     "metadata": {},
     "output_type": "execute_result"
    }
   ],
   "source": [
    "model.fit(X_train,y_train)"
   ]
  },
  {
   "cell_type": "markdown",
   "id": "001585d6",
   "metadata": {
    "papermill": {
     "duration": 0.019316,
     "end_time": "2021-09-03T06:28:54.777032",
     "exception": false,
     "start_time": "2021-09-03T06:28:54.757716",
     "status": "completed"
    },
    "tags": []
   },
   "source": [
    "# **evaluate model**"
   ]
  },
  {
   "cell_type": "code",
   "execution_count": 11,
   "id": "9ae929a6",
   "metadata": {
    "execution": {
     "iopub.execute_input": "2021-09-03T06:28:54.824618Z",
     "iopub.status.busy": "2021-09-03T06:28:54.823437Z",
     "iopub.status.idle": "2021-09-03T06:28:54.839766Z",
     "shell.execute_reply": "2021-09-03T06:28:54.840273Z",
     "shell.execute_reply.started": "2021-09-03T06:25:00.309140Z"
    },
    "papermill": {
     "duration": 0.043718,
     "end_time": "2021-09-03T06:28:54.840481",
     "exception": false,
     "start_time": "2021-09-03T06:28:54.796763",
     "status": "completed"
    },
    "tags": []
   },
   "outputs": [
    {
     "data": {
      "text/plain": [
       "0.8251121076233184"
      ]
     },
     "execution_count": 11,
     "metadata": {},
     "output_type": "execute_result"
    }
   ],
   "source": [
    "model.score(X_test,y_test)"
   ]
  },
  {
   "cell_type": "markdown",
   "id": "56dc0fc0",
   "metadata": {
    "papermill": {
     "duration": 0.01961,
     "end_time": "2021-09-03T06:28:54.880233",
     "exception": false,
     "start_time": "2021-09-03T06:28:54.860623",
     "status": "completed"
    },
    "tags": []
   },
   "source": [
    "# **Prediction****"
   ]
  },
  {
   "cell_type": "code",
   "execution_count": 12,
   "id": "f53ed7e1",
   "metadata": {
    "execution": {
     "iopub.execute_input": "2021-09-03T06:28:54.923887Z",
     "iopub.status.busy": "2021-09-03T06:28:54.923240Z",
     "iopub.status.idle": "2021-09-03T06:28:54.946880Z",
     "shell.execute_reply": "2021-09-03T06:28:54.946310Z",
     "shell.execute_reply.started": "2021-09-03T06:25:13.319670Z"
    },
    "papermill": {
     "duration": 0.046681,
     "end_time": "2021-09-03T06:28:54.947028",
     "exception": false,
     "start_time": "2021-09-03T06:28:54.900347",
     "status": "completed"
    },
    "tags": []
   },
   "outputs": [],
   "source": [
    "prediction=model.predict(X)"
   ]
  },
  {
   "cell_type": "code",
   "execution_count": 13,
   "id": "934765ce",
   "metadata": {
    "execution": {
     "iopub.execute_input": "2021-09-03T06:28:54.996878Z",
     "iopub.status.busy": "2021-09-03T06:28:54.995930Z",
     "iopub.status.idle": "2021-09-03T06:28:55.000612Z",
     "shell.execute_reply": "2021-09-03T06:28:55.000091Z",
     "shell.execute_reply.started": "2021-09-03T06:25:15.397625Z"
    },
    "papermill": {
     "duration": 0.033969,
     "end_time": "2021-09-03T06:28:55.000758",
     "exception": false,
     "start_time": "2021-09-03T06:28:54.966789",
     "status": "completed"
    },
    "tags": []
   },
   "outputs": [
    {
     "data": {
      "text/plain": [
       "array([0, 1, 1, 1, 0, 0, 0, 0, 1, 1, 1, 1, 0, 0, 1, 1, 0, 0, 1, 1, 0, 0,\n",
       "       1, 0, 0, 0, 0, 0, 1, 0, 0, 1, 1, 0, 0, 0, 0, 0, 1, 1, 1, 1, 0, 1,\n",
       "       1, 0, 0, 1, 0, 1, 0, 0, 1, 1, 0, 0, 1, 0, 1, 0, 0, 1, 0, 0, 0, 0,\n",
       "       1, 0, 0, 0, 0, 0, 0, 0, 0, 0, 0, 0, 1, 1, 0, 0, 1, 0, 1, 1, 0, 0,\n",
       "       1, 0, 0, 0, 0, 0, 0, 0, 0, 0, 1, 0, 1, 0, 0, 0, 0, 0, 1, 0, 0, 1,\n",
       "       0, 1, 0, 1, 1, 0, 0, 0, 0, 0, 0, 0, 0, 1, 0, 0, 0, 0, 1, 0, 0, 0,\n",
       "       1, 1, 0, 0, 1, 0, 0, 0, 1, 1, 1, 0, 0, 0, 0, 0, 1, 0, 0, 1, 0, 1,\n",
       "       0, 0, 1, 0, 0, 0, 0, 1, 0, 0, 0, 1, 1, 0, 0, 0, 0, 0, 1, 0, 0, 0,\n",
       "       0, 1, 0, 0, 0, 0, 0, 0, 1, 0, 1, 0, 0, 0, 1, 0, 1, 0, 1, 1, 0, 0,\n",
       "       1, 1, 0, 0, 0, 0, 0, 1, 0, 0, 1, 0, 0, 1, 0, 0, 0, 1, 1, 0, 1, 0,\n",
       "       0, 0, 0, 0, 0, 0, 0, 0, 0, 0, 1, 0, 0, 0, 0, 1, 0, 1, 0, 0, 1, 1,\n",
       "       0, 0, 0, 0, 1, 1, 1, 0, 0, 1, 0, 0, 1, 1, 1, 1, 1, 1, 0, 0, 1, 0,\n",
       "       1, 0, 0, 0, 1, 1, 0, 0, 1, 0, 1, 1, 1, 0, 0, 1, 0, 0, 0, 0, 0, 0,\n",
       "       0, 0, 0, 1, 1, 1, 0, 1, 0, 0, 0, 1, 0, 1, 1, 0, 0, 1, 0, 1, 1, 1,\n",
       "       0, 1, 1, 1, 1, 0, 0, 1, 1, 0, 1, 1, 0, 0, 1, 1, 0, 1, 0, 1, 1, 1,\n",
       "       1, 0, 0, 0, 1, 0, 0, 1, 0, 0, 0, 1, 0, 0, 0, 1, 1, 1, 0, 0, 0, 0,\n",
       "       0, 0, 0, 0, 1, 1, 1, 1, 0, 0, 1, 0, 0, 0, 1, 1, 1, 1, 0, 0, 0, 0,\n",
       "       0, 1, 1, 0, 0, 0, 1, 1, 0, 1, 0, 0, 0, 1, 0, 1, 1, 0, 0, 1, 1, 0,\n",
       "       1, 0, 0, 1, 0, 0, 1, 0, 1, 0, 0, 0, 0, 0, 0, 0, 1, 0, 0, 1, 1, 1,\n",
       "       0, 1, 0, 0, 0, 1, 0, 0, 1, 1, 0, 0, 0, 1, 1, 0, 0, 1, 0, 1, 0, 0,\n",
       "       1, 0, 0, 1, 0, 0, 1, 0, 1, 0, 0, 0, 0, 0, 0, 0, 0, 1, 1, 0, 0, 0,\n",
       "       0, 0, 0, 0, 0, 0, 0, 1, 0, 0, 1, 1, 1, 0, 0, 0, 0, 1, 0, 0, 0, 1,\n",
       "       0, 0, 1, 0, 0, 0, 0, 0, 0, 0, 0, 0, 1, 0, 1, 0, 0, 1, 1, 1, 1, 0,\n",
       "       1, 0, 0, 0, 0, 0, 0, 1, 0, 0, 1, 0, 1, 0, 1, 0, 0, 1, 0, 0, 1, 0,\n",
       "       0, 0, 1, 0, 0, 1, 1, 1, 0, 1, 0, 1, 1, 0, 0, 0, 0, 0, 1, 0, 0, 0,\n",
       "       0, 0, 0, 0, 1, 0, 1, 0, 1, 1, 0, 0, 0, 0, 1, 0, 0, 0, 0, 0, 0, 1,\n",
       "       0, 1, 0, 0, 1, 1, 1, 0, 1, 1, 0, 0, 0, 1, 0, 1, 0, 0, 0, 1, 0, 1,\n",
       "       0, 0, 1, 0, 0, 0, 1, 0, 0, 0, 0, 0, 0, 0, 1, 1, 0, 0, 1, 0, 0, 1,\n",
       "       0, 1, 1, 0, 0, 0, 0, 0, 0, 0, 0, 1, 0, 0, 0, 0, 0, 0, 0, 1, 0, 0,\n",
       "       0, 0, 0, 1, 0, 0, 1, 0, 0, 0, 0, 1, 0, 1, 0, 1, 1, 0, 0, 1, 0, 0,\n",
       "       0, 0, 0, 0, 0, 0, 0, 0, 0, 1, 1, 0, 0, 0, 0, 0, 0, 1, 0, 0, 1, 0,\n",
       "       0, 0, 0, 0, 0, 0, 0, 1, 0, 1, 0, 0, 0, 0, 0, 1, 1, 0, 1, 0, 1, 0,\n",
       "       0, 0, 1, 0, 1, 0, 1, 0, 0, 0, 0, 0, 1, 1, 0, 0, 1, 0, 0, 0, 0, 0,\n",
       "       1, 1, 0, 1, 1, 0, 0, 0, 0, 0, 0, 0, 0, 0, 0, 0, 1, 0, 0, 1, 0, 1,\n",
       "       0, 0, 1, 0, 0, 0, 1, 0, 0, 0, 0, 1, 0, 0, 0, 1, 0, 1, 0, 1, 0, 0,\n",
       "       0, 0, 1, 0, 1, 0, 0, 1, 0, 1, 1, 1, 0, 0, 0, 0, 1, 0, 0, 0, 0, 0,\n",
       "       0, 0, 0, 0, 1, 1, 0, 1, 0, 1, 1, 0, 0, 0, 0, 1, 0, 1, 0, 0, 0, 0,\n",
       "       0, 0, 1, 0, 0, 0, 1, 0, 0, 1, 0, 0, 0, 1, 0, 1, 1, 0, 0, 0, 0, 1,\n",
       "       0, 0, 0, 0, 0, 0, 1, 0, 0, 0, 0, 0, 0, 1, 0, 0, 1, 1, 1, 1, 1, 0,\n",
       "       1, 0, 0, 0, 1, 0, 0, 1, 1, 0, 0, 0, 0, 1, 0, 0, 1, 1, 0, 0, 0, 1,\n",
       "       1, 0, 1, 0, 0, 0, 0, 1, 0, 0, 0])"
      ]
     },
     "execution_count": 13,
     "metadata": {},
     "output_type": "execute_result"
    }
   ],
   "source": [
    "prediction"
   ]
  },
  {
   "cell_type": "code",
   "execution_count": 14,
   "id": "4fb121b4",
   "metadata": {
    "execution": {
     "iopub.execute_input": "2021-09-03T06:28:55.047848Z",
     "iopub.status.busy": "2021-09-03T06:28:55.046837Z",
     "iopub.status.idle": "2021-09-03T06:28:55.050309Z",
     "shell.execute_reply": "2021-09-03T06:28:55.049666Z",
     "shell.execute_reply.started": "2021-09-03T06:25:19.317892Z"
    },
    "papermill": {
     "duration": 0.029321,
     "end_time": "2021-09-03T06:28:55.050491",
     "exception": false,
     "start_time": "2021-09-03T06:28:55.021170",
     "status": "completed"
    },
    "tags": []
   },
   "outputs": [],
   "source": [
    "output=pd.DataFrame({'PassengerId': qesem.PassengerId,'Survived': prediction})"
   ]
  },
  {
   "cell_type": "code",
   "execution_count": 15,
   "id": "c03235fd",
   "metadata": {
    "execution": {
     "iopub.execute_input": "2021-09-03T06:28:55.104369Z",
     "iopub.status.busy": "2021-09-03T06:28:55.102720Z",
     "iopub.status.idle": "2021-09-03T06:28:55.108801Z",
     "shell.execute_reply": "2021-09-03T06:28:55.109300Z",
     "shell.execute_reply.started": "2021-09-03T06:25:41.064950Z"
    },
    "papermill": {
     "duration": 0.03675,
     "end_time": "2021-09-03T06:28:55.109546",
     "exception": false,
     "start_time": "2021-09-03T06:28:55.072796",
     "status": "completed"
    },
    "tags": []
   },
   "outputs": [
    {
     "data": {
      "text/html": [
       "<div>\n",
       "<style scoped>\n",
       "    .dataframe tbody tr th:only-of-type {\n",
       "        vertical-align: middle;\n",
       "    }\n",
       "\n",
       "    .dataframe tbody tr th {\n",
       "        vertical-align: top;\n",
       "    }\n",
       "\n",
       "    .dataframe thead th {\n",
       "        text-align: right;\n",
       "    }\n",
       "</style>\n",
       "<table border=\"1\" class=\"dataframe\">\n",
       "  <thead>\n",
       "    <tr style=\"text-align: right;\">\n",
       "      <th></th>\n",
       "      <th>PassengerId</th>\n",
       "      <th>Survived</th>\n",
       "    </tr>\n",
       "  </thead>\n",
       "  <tbody>\n",
       "    <tr>\n",
       "      <th>0</th>\n",
       "      <td>1</td>\n",
       "      <td>0</td>\n",
       "    </tr>\n",
       "    <tr>\n",
       "      <th>1</th>\n",
       "      <td>2</td>\n",
       "      <td>1</td>\n",
       "    </tr>\n",
       "    <tr>\n",
       "      <th>2</th>\n",
       "      <td>3</td>\n",
       "      <td>1</td>\n",
       "    </tr>\n",
       "    <tr>\n",
       "      <th>3</th>\n",
       "      <td>4</td>\n",
       "      <td>1</td>\n",
       "    </tr>\n",
       "    <tr>\n",
       "      <th>4</th>\n",
       "      <td>5</td>\n",
       "      <td>0</td>\n",
       "    </tr>\n",
       "  </tbody>\n",
       "</table>\n",
       "</div>"
      ],
      "text/plain": [
       "   PassengerId  Survived\n",
       "0            1         0\n",
       "1            2         1\n",
       "2            3         1\n",
       "3            4         1\n",
       "4            5         0"
      ]
     },
     "execution_count": 15,
     "metadata": {},
     "output_type": "execute_result"
    }
   ],
   "source": [
    "output.head()"
   ]
  },
  {
   "cell_type": "code",
   "execution_count": 16,
   "id": "e6f4c0f0",
   "metadata": {
    "execution": {
     "iopub.execute_input": "2021-09-03T06:28:55.157011Z",
     "iopub.status.busy": "2021-09-03T06:28:55.156358Z",
     "iopub.status.idle": "2021-09-03T06:28:55.163539Z",
     "shell.execute_reply": "2021-09-03T06:28:55.162814Z",
     "shell.execute_reply.started": "2021-09-03T06:26:32.520982Z"
    },
    "papermill": {
     "duration": 0.032204,
     "end_time": "2021-09-03T06:28:55.163686",
     "exception": false,
     "start_time": "2021-09-03T06:28:55.131482",
     "status": "completed"
    },
    "tags": []
   },
   "outputs": [],
   "source": [
    "output.to_csv('my_first_model.csv', index=False)"
   ]
  },
  {
   "cell_type": "code",
   "execution_count": 17,
   "id": "69dfe24c",
   "metadata": {
    "execution": {
     "iopub.execute_input": "2021-09-03T06:28:55.211612Z",
     "iopub.status.busy": "2021-09-03T06:28:55.210820Z",
     "iopub.status.idle": "2021-09-03T06:28:55.223617Z",
     "shell.execute_reply": "2021-09-03T06:28:55.223063Z",
     "shell.execute_reply.started": "2021-09-03T06:26:57.597022Z"
    },
    "papermill": {
     "duration": 0.03762,
     "end_time": "2021-09-03T06:28:55.223777",
     "exception": false,
     "start_time": "2021-09-03T06:28:55.186157",
     "status": "completed"
    },
    "tags": []
   },
   "outputs": [],
   "source": [
    "test=pd.read_csv(\"../input/titanic/test.csv\")"
   ]
  },
  {
   "cell_type": "code",
   "execution_count": 18,
   "id": "93868376",
   "metadata": {
    "execution": {
     "iopub.execute_input": "2021-09-03T06:28:55.275861Z",
     "iopub.status.busy": "2021-09-03T06:28:55.275224Z",
     "iopub.status.idle": "2021-09-03T06:28:55.277196Z",
     "shell.execute_reply": "2021-09-03T06:28:55.277658Z",
     "shell.execute_reply.started": "2021-09-03T06:27:07.917490Z"
    },
    "papermill": {
     "duration": 0.032828,
     "end_time": "2021-09-03T06:28:55.277840",
     "exception": false,
     "start_time": "2021-09-03T06:28:55.245012",
     "status": "completed"
    },
    "tags": []
   },
   "outputs": [],
   "source": [
    "Xa_test = pd.get_dummies(test[features])"
   ]
  },
  {
   "cell_type": "code",
   "execution_count": 19,
   "id": "13435701",
   "metadata": {
    "execution": {
     "iopub.execute_input": "2021-09-03T06:28:55.321856Z",
     "iopub.status.busy": "2021-09-03T06:28:55.321217Z",
     "iopub.status.idle": "2021-09-03T06:28:55.342181Z",
     "shell.execute_reply": "2021-09-03T06:28:55.341603Z",
     "shell.execute_reply.started": "2021-09-03T06:27:15.737617Z"
    },
    "papermill": {
     "duration": 0.043867,
     "end_time": "2021-09-03T06:28:55.342330",
     "exception": false,
     "start_time": "2021-09-03T06:28:55.298463",
     "status": "completed"
    },
    "tags": []
   },
   "outputs": [],
   "source": [
    "Xa_test_result= model.predict(Xa_test)"
   ]
  },
  {
   "cell_type": "code",
   "execution_count": 20,
   "id": "2f141b0f",
   "metadata": {
    "execution": {
     "iopub.execute_input": "2021-09-03T06:28:55.390718Z",
     "iopub.status.busy": "2021-09-03T06:28:55.389795Z",
     "iopub.status.idle": "2021-09-03T06:28:55.395148Z",
     "shell.execute_reply": "2021-09-03T06:28:55.395977Z",
     "shell.execute_reply.started": "2021-09-03T06:27:37.460099Z"
    },
    "papermill": {
     "duration": 0.033271,
     "end_time": "2021-09-03T06:28:55.396203",
     "exception": false,
     "start_time": "2021-09-03T06:28:55.362932",
     "status": "completed"
    },
    "tags": []
   },
   "outputs": [
    {
     "name": "stdout",
     "output_type": "stream",
     "text": [
      "Your submission was successfully saved\n"
     ]
    }
   ],
   "source": [
    "output = pd.DataFrame({'PassengerId': test.PassengerId, 'Survived': Xa_test_result})\n",
    "output.to_csv('my_submission.csv', index=False)\n",
    "print(\"Your submission was successfully saved\")"
   ]
  }
 ],
 "metadata": {
  "kernelspec": {
   "display_name": "Python 3",
   "language": "python",
   "name": "python3"
  },
  "language_info": {
   "codemirror_mode": {
    "name": "ipython",
    "version": 3
   },
   "file_extension": ".py",
   "mimetype": "text/x-python",
   "name": "python",
   "nbconvert_exporter": "python",
   "pygments_lexer": "ipython3",
   "version": "3.7.10"
  },
  "papermill": {
   "default_parameters": {},
   "duration": 11.771487,
   "end_time": "2021-09-03T06:28:56.129021",
   "environment_variables": {},
   "exception": null,
   "input_path": "__notebook__.ipynb",
   "output_path": "__notebook__.ipynb",
   "parameters": {},
   "start_time": "2021-09-03T06:28:44.357534",
   "version": "2.3.3"
  }
 },
 "nbformat": 4,
 "nbformat_minor": 5
}
